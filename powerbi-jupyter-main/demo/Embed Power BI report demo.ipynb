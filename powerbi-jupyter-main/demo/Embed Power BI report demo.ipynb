{
 "cells": [
  {
   "cell_type": "markdown",
   "metadata": {},
   "source": [
    "# Embedding sample notebook"
   ]
  },
  {
   "cell_type": "markdown",
   "metadata": {},
   "source": [
    "The following notebook demonstartes how to embed your Power BI content in a Jupyter notebook and interact with it.\n",
    "To run the demo, you will need to obtain your report id and group (workspace) id from the URL of your report."
   ]
  },
  {
   "cell_type": "code",
   "execution_count": 3,
   "metadata": {},
   "outputs": [],
   "source": [
    "from powerbiclient.authentication import DeviceCodeLoginAuthentication\n",
    "from powerbiclient import Report, models\n",
    "from io import StringIO\n",
    "from ipywidgets import interact\n",
    "import requests\n",
    "import pandas as pd\n",
    "import matplotlib"
   ]
  },
  {
   "cell_type": "markdown",
   "metadata": {},
   "source": [
    "### Authenticate to Power BI"
   ]
  },
  {
   "cell_type": "markdown",
   "metadata": {},
   "source": [
    "\n",
    "#### The following authentication methods can be used to authenticate the user and get the access token:\n",
    "\n",
    "- [Device flow authentication](https://msal-python.readthedocs.io/en/latest/#msal.PublicClientApplication.acquire_token_by_device_flow)\n",
    "    \n",
    "    Code snippet:\n",
    "    ``` py\n",
    "  from powerbiclient.authentication import DeviceCodeLoginAuthentication\n",
    "  device_auth = DeviceCodeLoginAuthentication()\n",
    "    ```\n",
    "- [Interactive authentication](https://msal-python.readthedocs.io/en/latest/#msal.PublicClientApplication.acquire_token_interactive)\n",
    "    \n",
    "    Code snippet:\n",
    "    ``` py\n",
    "  from powerbiclient.authentication import InteractiveLoginAuthentication\n",
    "  interactive_auth = InteractiveLoginAuthentication()    \n",
    "    ```\n",
    "\n",
    "Note: Either use auth object created or access token acquired above while creating the report instance\n"
   ]
  },
  {
   "cell_type": "markdown",
   "metadata": {},
   "source": [
    "#### Run the cell below to obtain the auth object using the Device Flow Authentication method for the demo notebook"
   ]
  },
  {
   "cell_type": "code",
   "execution_count": 4,
   "metadata": {},
   "outputs": [
    {
     "name": "stdout",
     "output_type": "stream",
     "text": [
      "Performing device flow authentication. Please follow the instructions below.\n",
      "To sign in, use a web browser to open the page https://microsoft.com/devicelogin and enter the code E6JA3DRJ7 to authenticate.\n"
     ]
    },
    {
     "ename": "RuntimeError",
     "evalue": "Authentication failed. Try again.\nDetails: AADSTS70016: OAuth 2.0 device flow error. Authorization is pending. Continue polling. Trace ID: 8eb7d058-555c-4695-aa3c-61c338460f00 Correlation ID: 57345ce2-e85d-4657-a396-e91f1189d7da Timestamp: 2025-09-10 17:19:18Z",
     "output_type": "error",
     "traceback": [
      "\u001b[1;31m---------------------------------------------------------------------------\u001b[0m",
      "\u001b[1;31mRuntimeError\u001b[0m                              Traceback (most recent call last)",
      "Cell \u001b[1;32mIn[4], line 2\u001b[0m\n\u001b[0;32m      1\u001b[0m \u001b[38;5;66;03m# Auth object for demo\u001b[39;00m\n\u001b[1;32m----> 2\u001b[0m auth \u001b[38;5;241m=\u001b[39m DeviceCodeLoginAuthentication()\n",
      "File \u001b[1;32m~\\AppData\\Local\\anaconda3\\Lib\\site-packages\\powerbiclient\\authentication.py:78\u001b[0m, in \u001b[0;36mDeviceCodeLoginAuthentication.__init__\u001b[1;34m(self, tenant_id)\u001b[0m\n\u001b[0;32m     76\u001b[0m \u001b[38;5;28msuper\u001b[39m()\u001b[38;5;241m.\u001b[39m\u001b[38;5;21m__init__\u001b[39m()\n\u001b[0;32m     77\u001b[0m CheckGlobalAuth()\n\u001b[1;32m---> 78\u001b[0m \u001b[38;5;28mself\u001b[39m\u001b[38;5;241m.\u001b[39m_acquire_token_device_code(tenant_id)\n",
      "File \u001b[1;32m~\\AppData\\Local\\anaconda3\\Lib\\site-packages\\powerbiclient\\authentication.py:110\u001b[0m, in \u001b[0;36mDeviceCodeLoginAuthentication._acquire_token_device_code\u001b[1;34m(self, tenant_id)\u001b[0m\n\u001b[0;32m    108\u001b[0m \u001b[38;5;28;01melse\u001b[39;00m:\n\u001b[0;32m    109\u001b[0m     error_message \u001b[38;5;241m=\u001b[39m \u001b[38;5;124mf\u001b[39m\u001b[38;5;124m\"\u001b[39m\u001b[38;5;124mAuthentication failed. Try again.\u001b[39m\u001b[38;5;130;01m\\n\u001b[39;00m\u001b[38;5;124mDetails: \u001b[39m\u001b[38;5;132;01m{\u001b[39;00mresult\u001b[38;5;241m.\u001b[39mget(\u001b[38;5;124m'\u001b[39m\u001b[38;5;124merror_description\u001b[39m\u001b[38;5;124m'\u001b[39m)\u001b[38;5;132;01m}\u001b[39;00m\u001b[38;5;124m\"\u001b[39m\n\u001b[1;32m--> 110\u001b[0m     \u001b[38;5;28;01mraise\u001b[39;00m \u001b[38;5;167;01mRuntimeError\u001b[39;00m(error_message)\n",
      "\u001b[1;31mRuntimeError\u001b[0m: Authentication failed. Try again.\nDetails: AADSTS70016: OAuth 2.0 device flow error. Authorization is pending. Continue polling. Trace ID: 8eb7d058-555c-4695-aa3c-61c338460f00 Correlation ID: 57345ce2-e85d-4657-a396-e91f1189d7da Timestamp: 2025-09-10 17:19:18Z"
     ]
    }
   ],
   "source": [
    "# Auth object for demo\n",
    "auth = DeviceCodeLoginAuthentication()"
   ]
  },
  {
   "cell_type": "markdown",
   "metadata": {},
   "source": [
    "### Create an instance of Power BI Report"
   ]
  },
  {
   "cell_type": "markdown",
   "metadata": {},
   "source": [
    "- Below snippets are the values for optional view_mode parameter\n",
    "``` py \n",
    "view_mode=models.EmbedMode.VIEW.value\n",
    "view_mode=models.EmbedMode.EDIT.value\n",
    "view_mode=models.EmbedMode.CREATE.value\n",
    "``` \n",
    "Default value for the parameter is \n",
    "``` py \n",
    "view_mode=models.EmbedMode.VIEW.value \n",
    "```\n",
    "\n",
    "- Below snippets are the values for the [permissions](https://docs.microsoft.com/en-us/javascript/api/overview/powerbi/configure-report-settings#open-in-edit-mode) parameter for embedding the report in EDIT mode\n",
    "``` py \n",
    "permissions=models.Permissions.READWRITE.value\n",
    "permissions=models.Permissions.COPY.value\n",
    "permissions=models.Permissions.ALL.value\n",
    "``` \n",
    "\n",
    "#### Render report in Create mode\n",
    "To create a new report in embed mode, the following additional parameters need to be passed\n",
    "``` py\n",
    "dataset_id='POWER_BI_DATASET_ID'\n",
    "view_mode=models.EmbedMode.CREATE.value\n",
    "```"
   ]
  },
  {
   "cell_type": "markdown",
   "metadata": {},
   "source": [
    "#### Replace the group_id and report_id parameters with your own report ID and group ID and run the cell below to create a Power BI report instance:"
   ]
  },
  {
   "cell_type": "code",
   "execution_count": null,
   "metadata": {},
   "outputs": [],
   "source": [
    "group_id = \"ENTER YOUR GROUP ID\"\n",
    "report_id = \"ENTER YOUR REPORT ID\"\n",
    "report = Report(group_id=group_id, report_id=report_id, auth=auth)"
   ]
  },
  {
   "cell_type": "markdown",
   "metadata": {},
   "source": [
    "### Power BI event handlers"
   ]
  },
  {
   "cell_type": "markdown",
   "metadata": {},
   "source": [
    "#### Set report loaded event handler"
   ]
  },
  {
   "cell_type": "code",
   "execution_count": null,
   "metadata": {},
   "outputs": [],
   "source": [
    "def loaded_callback(event_details):\n",
    "    print('Report is loaded')\n",
    "\n",
    "report.on('loaded', loaded_callback)"
   ]
  },
  {
   "cell_type": "markdown",
   "metadata": {},
   "source": [
    "#### Set report rendered event handler"
   ]
  },
  {
   "cell_type": "code",
   "execution_count": null,
   "metadata": {},
   "outputs": [],
   "source": [
    "def rendered_callback(event_details):\n",
    "    print('Report is rendered')\n",
    "\n",
    "report.on('rendered', rendered_callback)"
   ]
  },
  {
   "cell_type": "markdown",
   "metadata": {},
   "source": [
    "#### Load the report in the output cell"
   ]
  },
  {
   "cell_type": "code",
   "execution_count": null,
   "metadata": {},
   "outputs": [],
   "source": [
    "# Render report\n",
    "report"
   ]
  },
  {
   "cell_type": "markdown",
   "metadata": {},
   "source": [
    "#### Change dimensions of embedded report"
   ]
  },
  {
   "cell_type": "code",
   "execution_count": null,
   "metadata": {},
   "outputs": [],
   "source": [
    "# Change dimensions of embedded report\n",
    "report.set_size(600, 900)"
   ]
  },
  {
   "cell_type": "markdown",
   "metadata": {},
   "source": [
    "### Export data from a visual of the embedded report"
   ]
  },
  {
   "cell_type": "markdown",
   "metadata": {},
   "source": [
    "#### Get the active page"
   ]
  },
  {
   "cell_type": "code",
   "execution_count": null,
   "metadata": {},
   "outputs": [],
   "source": [
    "def get_active_page(self):\n",
    "    \n",
    "    # Get list of pages\n",
    "    pages = self.get_pages()\n",
    "    active_page = {}\n",
    "    for page in pages:\n",
    "        \n",
    "        # Get active page\n",
    "        if page['isActive'] == True:\n",
    "            active_page = page\n",
    "            break\n",
    "    return active_page"
   ]
  },
  {
   "cell_type": "markdown",
   "metadata": {},
   "source": [
    "#### Get the visual whose data is to be exported"
   ]
  },
  {
   "cell_type": "markdown",
   "metadata": {},
   "source": [
    "Make sure that the active page on the report you're embedding has a visual of type 'clustered column chart', or change to a different visual type below."
   ]
  },
  {
   "cell_type": "code",
   "execution_count": null,
   "metadata": {},
   "outputs": [],
   "source": [
    "active_page = get_active_page(report)\n",
    "active_page_name = active_page['name']\n",
    "\n",
    "# Get list of visuals on active page\n",
    "visuals = report.visuals_on_page(active_page_name)\n",
    "\n",
    "# Get visual whose type is 'clusteredColumnChart'\n",
    "visual = next(filter(lambda visual: visual['type'] == 'clusteredColumnChart', visuals))\n",
    "visual_name = visual['name']"
   ]
  },
  {
   "cell_type": "markdown",
   "metadata": {},
   "source": [
    "#### Export summarized data from a visual of the embedded report"
   ]
  },
  {
   "cell_type": "code",
   "execution_count": null,
   "metadata": {},
   "outputs": [],
   "source": [
    "summarized_exported_data = report.export_visual_data(active_page_name, visual_name, rows = 20)\n",
    "\n",
    "print(summarized_exported_data)"
   ]
  },
  {
   "cell_type": "markdown",
   "metadata": {},
   "source": [
    "#### Export underlying data from a visual of the embedded report"
   ]
  },
  {
   "cell_type": "code",
   "execution_count": null,
   "metadata": {},
   "outputs": [],
   "source": [
    "underlying_exported_data = report.export_visual_data(active_page_name, visual_name, rows = 5, export_data_type = models.ExportDataType.UNDERLYING.value)\n",
    "\n",
    "print(underlying_exported_data)"
   ]
  },
  {
   "cell_type": "markdown",
   "metadata": {},
   "source": [
    "### Convert exported visual data into CSV and load into pandas dataframe"
   ]
  },
  {
   "cell_type": "code",
   "execution_count": null,
   "metadata": {},
   "outputs": [],
   "source": [
    "data = StringIO(summarized_exported_data)\n",
    "\n",
    "df = pd.read_csv(data, sep=\",\")\n",
    "df.head()"
   ]
  },
  {
   "cell_type": "markdown",
   "metadata": {},
   "source": [
    "### Visualize the data"
   ]
  },
  {
   "cell_type": "markdown",
   "metadata": {},
   "source": [
    "Adjust the plot parameters below to fit your report"
   ]
  },
  {
   "cell_type": "code",
   "execution_count": null,
   "metadata": {},
   "outputs": [],
   "source": [
    "df.plot.pie(y=\"Total Units\", labels=df.loc[:,'isVanArsdel'].values.tolist(), figsize=(10,15))"
   ]
  },
  {
   "cell_type": "markdown",
   "metadata": {},
   "source": [
    "### Filter the report by region using iPyWidget"
   ]
  },
  {
   "cell_type": "markdown",
   "metadata": {},
   "source": [
    "Adjust the filter below to fit your report"
   ]
  },
  {
   "cell_type": "code",
   "execution_count": null,
   "metadata": {},
   "outputs": [],
   "source": [
    "def filter_report(Region):\n",
    "    region_filter = {\n",
    "        '$schema': \"http://powerbi.com/product/schema#basic\",\n",
    "        'target': {\n",
    "            'table': \"Geo\",\n",
    "            'column': \"Region\"\n",
    "        },\n",
    "        'operator': \"In\",\n",
    "        'values': [Region]\n",
    "    }\n",
    "    report.remove_filters()\n",
    "    report.update_filters([region_filter])"
   ]
  },
  {
   "cell_type": "code",
   "execution_count": null,
   "metadata": {},
   "outputs": [],
   "source": [
    "report"
   ]
  },
  {
   "cell_type": "code",
   "execution_count": null,
   "metadata": {},
   "outputs": [],
   "source": [
    "interact(filter_report, Region=['Central','East', 'West']);"
   ]
  },
  {
   "cell_type": "markdown",
   "metadata": {},
   "source": [
    "### Get filters applied on the report"
   ]
  },
  {
   "cell_type": "code",
   "execution_count": null,
   "metadata": {},
   "outputs": [],
   "source": [
    "report.get_filters()"
   ]
  },
  {
   "cell_type": "markdown",
   "metadata": {},
   "source": [
    "### Get report bookmarks"
   ]
  },
  {
   "cell_type": "code",
   "execution_count": null,
   "metadata": {},
   "outputs": [],
   "source": [
    "# Get list of bookmarks\n",
    "bookmarks_list = report.get_bookmarks()\n",
    "\n",
    "# Convert the list into a dataframe\n",
    "bookmarks_dataframe = pd.DataFrame(bookmarks_list)\n",
    "\n",
    "# Rename columns\n",
    "bookmarks_dataframe.rename(columns={'name':'Name', 'displayName':'Display Name', 'state':'State'}, inplace=True)\n",
    "bookmarks_dataframe"
   ]
  },
  {
   "cell_type": "markdown",
   "metadata": {},
   "source": [
    "### Apply report bookmark"
   ]
  },
  {
   "cell_type": "code",
   "execution_count": null,
   "metadata": {},
   "outputs": [],
   "source": [
    "def apply_bookmark(BookmarkDisplayName):\n",
    "    \n",
    "    # Get bookmark name corresponding to the display name provided by the user\n",
    "    bookmark_name = bookmarks_dataframe[bookmarks_dataframe['Display Name'] == BookmarkDisplayName].Name.values[0]\n",
    "    report.set_bookmark(bookmark_name)"
   ]
  },
  {
   "cell_type": "markdown",
   "metadata": {},
   "source": [
    "### Apply bookmark using ipywidget"
   ]
  },
  {
   "cell_type": "code",
   "execution_count": null,
   "metadata": {},
   "outputs": [],
   "source": [
    "report"
   ]
  },
  {
   "cell_type": "code",
   "execution_count": null,
   "metadata": {},
   "outputs": [],
   "source": [
    "interact(apply_bookmark, BookmarkDisplayName=bookmarks_dataframe['Display Name'])"
   ]
  },
  {
   "cell_type": "code",
   "execution_count": null,
   "metadata": {},
   "outputs": [],
   "source": []
  },
  {
   "cell_type": "code",
   "execution_count": null,
   "metadata": {},
   "outputs": [],
   "source": []
  },
  {
   "cell_type": "code",
   "execution_count": null,
   "metadata": {},
   "outputs": [],
   "source": []
  },
  {
   "cell_type": "code",
   "execution_count": null,
   "metadata": {},
   "outputs": [],
   "source": []
  },
  {
   "cell_type": "code",
   "execution_count": null,
   "metadata": {},
   "outputs": [],
   "source": []
  },
  {
   "cell_type": "code",
   "execution_count": null,
   "metadata": {},
   "outputs": [],
   "source": []
  },
  {
   "cell_type": "code",
   "execution_count": null,
   "metadata": {},
   "outputs": [],
   "source": []
  }
 ],
 "metadata": {
  "kernelspec": {
   "display_name": "Python 3 (ipykernel)",
   "language": "python",
   "name": "python3"
  },
  "language_info": {
   "codemirror_mode": {
    "name": "ipython",
    "version": 3
   },
   "file_extension": ".py",
   "mimetype": "text/x-python",
   "name": "python",
   "nbconvert_exporter": "python",
   "pygments_lexer": "ipython3",
   "version": "3.13.5"
  }
 },
 "nbformat": 4,
 "nbformat_minor": 4
}
